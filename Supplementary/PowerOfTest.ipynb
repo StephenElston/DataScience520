{
 "cells": [
  {
   "cell_type": "markdown",
   "metadata": {},
   "source": [
    "# Power of Tests\n",
    "\n",
    "As you have already seen, there is a significant risk of finding falsely significant results when testing hypotheses. On the other hand, there is also a significant chance that an actual effect will not be detected. We call the ability of a test to detect an actual effect as the **power**.   \n",
    "\n",
    ">The **power of a test** is formally defined as:   \n",
    "\n",
    "$$power = P(reject\\ H_0| when\\ H_a\\ is\\ true)$$   \n",
    "\n",
    ">In pain language, the power is the probability of getting a positive result when the null hypothesis is not true. Conversely, a test with insufficient power will not detect a real effect. Clearly, we want the most powerful test we can find for the situation. \n",
    "\n",
    ">Computing test power can be a bit complex, and analytical solutions can be difficult or impossible. Often, a simulation is used to compute power. \n",
    "\n",
    "In this exercise you will compute the power for a two sample t-test. The power of this test depends on the several parameters:\n",
    "\n",
    "- The number of samples.\n",
    "- The anticipated difference in the population means, which we call the **effect size**.\n",
    "- The significance level chosen.\n",
    "\n",
    "When running a power test, you can ask several questions, which will assist you in designing an experiment. Usually, you will determine how big a sample you need to detect an effect of the expected size. You can also determine how big an effect needs to be given a fixed sample size (all the samples you have or can afford) to detect an effect of the expected size. \n",
    "\n",
    "The Python [statsmodels package](https://www.statsmodels.org/dev/generated/statsmodels.stats.power.tt_ind_solve_power.html) provides power calculations for a limited set of hypothesis tests. We can use these capabilities to examine the characteristics of test power.\n",
    "\n",
    "Execute the code in the cell below to import the packages you will need for this exercise."
   ]
  },
  {
   "cell_type": "code",
   "execution_count": null,
   "metadata": {},
   "outputs": [],
   "source": [
    "import pandas as pd\n",
    "import numpy as np\n",
    "import numpy.random as nr\n",
    "import statsmodels.api as sm\n",
    "\n",
    "import matplotlib.pyplot as plt\n",
    "%matplotlib inline"
   ]
  },
  {
   "cell_type": "markdown",
   "metadata": {},
   "source": [
    "The code in the cell below does the following:\n",
    "\n",
    "- Create a sequence of effect sizes.\n",
    "- Compute a vector of power values with a fixed sample size and cutoff value.\n",
    "- Plot the power vs. effect size. \n",
    "\n",
    "Execute this code and examine the result. "
   ]
  },
  {
   "cell_type": "code",
   "execution_count": null,
   "metadata": {},
   "outputs": [],
   "source": [
    "import statsmodels.stats.power as smsp\n",
    "nr.seed(seed=23344)\n",
    "diffs = np.arange(start = 0.0, stop = 0.5, step = .01)\n",
    "powers = [smsp.tt_ind_solve_power(effect_size = x, nobs1 = 1000, \n",
    "           alpha = 0.05, power = None, ratio = 1.0, alternative = 'two-sided') \n",
    "          for x in diffs]\n",
    "\n",
    "def plot_power(x, y, xlabel, title):\n",
    "    import matplotlib.pyplot as plt\n",
    "    plt.plot(x, y, color = 'red', linewidth = 2)\n",
    "    plt.title(title)\n",
    "    plt.xlabel(xlabel)\n",
    "    plt.ylabel('Power')\n",
    "plot_power(diffs, powers, xlabel = 'Difference of means', title = 'Power vs. difference of means')    "
   ]
  },
  {
   "cell_type": "markdown",
   "metadata": {},
   "source": [
    "Examine the results displayed above. Notice that for small effect sizes the chance of detecting the effect is quite small. \n",
    "\n",
    "The code in the cell below does the following:\n",
    "\n",
    "- Create a sequence of cut-off values.\n",
    "- Compute a vector of power values with a fixed sample size and effect size.\n",
    "- Plot the power vs cut-off value. \n",
    "\n",
    "Execute this code and examine the result. "
   ]
  },
  {
   "cell_type": "code",
   "execution_count": null,
   "metadata": {},
   "outputs": [],
   "source": [
    "nr.seed(seed=1234)\n",
    "alphas = np.arange(start = 0.001, stop = 0.05, step = .001)\n",
    "powers = [smsp.tt_ind_solve_power(effect_size = 0.1, nobs1 = 1000, \n",
    "           alpha = x, power = None, ratio = 1.0, alternative = 'two-sided') \n",
    "          for x in alphas]\n",
    "\n",
    "plot_power(alphas, powers, xlabel = 'significance level', title = 'Power vs. significance level')    "
   ]
  },
  {
   "cell_type": "markdown",
   "metadata": {},
   "source": [
    "Examine the results displayed above. Notice that the probability of detecting the effect drops rapidly with significance level. \n",
    "\n",
    "In most cases of experiment design determining a sufficient sample size is of primary importance. In the cell below create the code to do the following:\n",
    "\n",
    "- Create a sequence of sample sizes from 100 to 5,000 in steps of 100.\n",
    "- Compute a vector of power values for a fixed effect size of 0.1 and a cutoff of 0.01.\n",
    "- Plot the power vs. sample size. \n",
    "\n",
    "Execute this code and examine the result. "
   ]
  },
  {
   "cell_type": "code",
   "execution_count": null,
   "metadata": {},
   "outputs": [],
   "source": [
    "nr.seed(seed=1234)\n"
   ]
  },
  {
   "cell_type": "markdown",
   "metadata": {},
   "source": [
    "Examine the results displayed above. How does the probability of detecting the effect drop with sample size. \n",
    "\n",
    "Power calculations such as these can be used to design effective experiments. "
   ]
  },
  {
   "cell_type": "markdown",
   "metadata": {},
   "source": [
    "##### Copyright 2020, Stephen F Elston. All rights reserved."
   ]
  },
  {
   "cell_type": "code",
   "execution_count": null,
   "metadata": {},
   "outputs": [],
   "source": []
  }
 ],
 "metadata": {
  "kernelspec": {
   "display_name": "Python 3",
   "language": "python",
   "name": "python3"
  },
  "language_info": {
   "codemirror_mode": {
    "name": "ipython",
    "version": 3
   },
   "file_extension": ".py",
   "mimetype": "text/x-python",
   "name": "python",
   "nbconvert_exporter": "python",
   "pygments_lexer": "ipython3",
   "version": "3.7.3"
  }
 },
 "nbformat": 4,
 "nbformat_minor": 2
}
