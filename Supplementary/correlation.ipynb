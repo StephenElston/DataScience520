{
 "cells": [
  {
   "cell_type": "markdown",
   "metadata": {},
   "source": [
    "# Correlation and Causation\n",
    "\n",
    "It is hard to over-emphasize the point that **correlation is not causation**!. Variables can be highly correlated for any number of reasons, none of which imply a causal relationship.    \n",
    "\n",
    "When trying to understand relationships between variables, it is worth the effort to think carefully and ask the question, does this relationship make sense? In this exercise you will explore a case where correlation appears to arise from **latent or hidden variables**. \n",
    "\n",
    "As a first step, execute the code in the cell below to import the packages you will need. "
   ]
  },
  {
   "cell_type": "code",
   "execution_count": 1,
   "metadata": {},
   "outputs": [],
   "source": [
    "import pandas as pd\n",
    "import numpy as np\n",
    "import numpy.random as nr\n",
    "import statsmodels.api as sm\n",
    "\n",
    "import matplotlib.pyplot as plt\n",
    "import seaborn as sns\n",
    "#matplotlib inline"
   ]
  },
  {
   "cell_type": "markdown",
   "metadata": {},
   "source": [
    "Is there anything you can do to improve your chances of wining a Nobel Prize? Let's have a look at some data and decide if the correlations make any sense?\n",
    "\n",
    "Now, execute the code in the cell below and examine the first 10 rows of the data frame."
   ]
  },
  {
   "cell_type": "code",
   "execution_count": 2,
   "metadata": {},
   "outputs": [
    {
     "name": "stdout",
     "output_type": "stream",
     "text": [
      "Dimensions of the data frame =  (19, 5)\n"
     ]
    },
    {
     "data": {
      "text/html": [
       "<div>\n",
       "<style scoped>\n",
       "    .dataframe tbody tr th:only-of-type {\n",
       "        vertical-align: middle;\n",
       "    }\n",
       "\n",
       "    .dataframe tbody tr th {\n",
       "        vertical-align: top;\n",
       "    }\n",
       "\n",
       "    .dataframe thead th {\n",
       "        text-align: right;\n",
       "    }\n",
       "</style>\n",
       "<table border=\"1\" class=\"dataframe\">\n",
       "  <thead>\n",
       "    <tr style=\"text-align: right;\">\n",
       "      <th></th>\n",
       "      <th>Country</th>\n",
       "      <th>Laureates10_million</th>\n",
       "      <th>Chocolate</th>\n",
       "      <th>Nobellaureates</th>\n",
       "      <th>Population</th>\n",
       "    </tr>\n",
       "  </thead>\n",
       "  <tbody>\n",
       "    <tr>\n",
       "      <th>0</th>\n",
       "      <td>Switzerland</td>\n",
       "      <td>32.771</td>\n",
       "      <td>8.8</td>\n",
       "      <td>28</td>\n",
       "      <td>8544034</td>\n",
       "    </tr>\n",
       "    <tr>\n",
       "      <th>1</th>\n",
       "      <td>Sweden</td>\n",
       "      <td>30.052</td>\n",
       "      <td>8.1</td>\n",
       "      <td>30</td>\n",
       "      <td>9982709</td>\n",
       "    </tr>\n",
       "    <tr>\n",
       "      <th>2</th>\n",
       "      <td>Austria</td>\n",
       "      <td>25.138</td>\n",
       "      <td>7.9</td>\n",
       "      <td>22</td>\n",
       "      <td>8751820</td>\n",
       "    </tr>\n",
       "    <tr>\n",
       "      <th>3</th>\n",
       "      <td>Denmark</td>\n",
       "      <td>24.329</td>\n",
       "      <td>7.9</td>\n",
       "      <td>14</td>\n",
       "      <td>5754356</td>\n",
       "    </tr>\n",
       "    <tr>\n",
       "      <th>4</th>\n",
       "      <td>Norway</td>\n",
       "      <td>24.284</td>\n",
       "      <td>6.6</td>\n",
       "      <td>13</td>\n",
       "      <td>5353363</td>\n",
       "    </tr>\n",
       "    <tr>\n",
       "      <th>5</th>\n",
       "      <td>Ireland</td>\n",
       "      <td>14.572</td>\n",
       "      <td>5.8</td>\n",
       "      <td>7</td>\n",
       "      <td>4803748</td>\n",
       "    </tr>\n",
       "    <tr>\n",
       "      <th>6</th>\n",
       "      <td>Germany</td>\n",
       "      <td>13.245</td>\n",
       "      <td>5.7</td>\n",
       "      <td>109</td>\n",
       "      <td>82293457</td>\n",
       "    </tr>\n",
       "    <tr>\n",
       "      <th>7</th>\n",
       "      <td>United States</td>\n",
       "      <td>11.721</td>\n",
       "      <td>5.6</td>\n",
       "      <td>383</td>\n",
       "      <td>326766748</td>\n",
       "    </tr>\n",
       "    <tr>\n",
       "      <th>8</th>\n",
       "      <td>France</td>\n",
       "      <td>10.664</td>\n",
       "      <td>5.4</td>\n",
       "      <td>70</td>\n",
       "      <td>65233271</td>\n",
       "    </tr>\n",
       "    <tr>\n",
       "      <th>9</th>\n",
       "      <td>Finland</td>\n",
       "      <td>9.021</td>\n",
       "      <td>5.0</td>\n",
       "      <td>5</td>\n",
       "      <td>5542517</td>\n",
       "    </tr>\n",
       "    <tr>\n",
       "      <th>10</th>\n",
       "      <td>Belgium</td>\n",
       "      <td>8.697</td>\n",
       "      <td>4.9</td>\n",
       "      <td>10</td>\n",
       "      <td>11498519</td>\n",
       "    </tr>\n",
       "    <tr>\n",
       "      <th>11</th>\n",
       "      <td>New Zealand</td>\n",
       "      <td>6.316</td>\n",
       "      <td>4.9</td>\n",
       "      <td>3</td>\n",
       "      <td>4749598</td>\n",
       "    </tr>\n",
       "    <tr>\n",
       "      <th>12</th>\n",
       "      <td>Poland</td>\n",
       "      <td>4.986</td>\n",
       "      <td>4.9</td>\n",
       "      <td>19</td>\n",
       "      <td>38104832</td>\n",
       "    </tr>\n",
       "    <tr>\n",
       "      <th>13</th>\n",
       "      <td>Australia</td>\n",
       "      <td>4.844</td>\n",
       "      <td>4.8</td>\n",
       "      <td>12</td>\n",
       "      <td>24772247</td>\n",
       "    </tr>\n",
       "    <tr>\n",
       "      <th>14</th>\n",
       "      <td>Czech Republic</td>\n",
       "      <td>4.706</td>\n",
       "      <td>4.4</td>\n",
       "      <td>5</td>\n",
       "      <td>10625250</td>\n",
       "    </tr>\n",
       "    <tr>\n",
       "      <th>15</th>\n",
       "      <td>Japan</td>\n",
       "      <td>2.202</td>\n",
       "      <td>4.3</td>\n",
       "      <td>28</td>\n",
       "      <td>127185332</td>\n",
       "    </tr>\n",
       "    <tr>\n",
       "      <th>16</th>\n",
       "      <td>South Africa</td>\n",
       "      <td>1.742</td>\n",
       "      <td>1.2</td>\n",
       "      <td>10</td>\n",
       "      <td>57398421</td>\n",
       "    </tr>\n",
       "    <tr>\n",
       "      <th>17</th>\n",
       "      <td>Russia</td>\n",
       "      <td>1.598</td>\n",
       "      <td>0.9</td>\n",
       "      <td>23</td>\n",
       "      <td>143964709</td>\n",
       "    </tr>\n",
       "    <tr>\n",
       "      <th>18</th>\n",
       "      <td>China</td>\n",
       "      <td>0.064</td>\n",
       "      <td>0.1</td>\n",
       "      <td>9</td>\n",
       "      <td>1415045928</td>\n",
       "    </tr>\n",
       "  </tbody>\n",
       "</table>\n",
       "</div>"
      ],
      "text/plain": [
       "           Country  Laureates10_million  Chocolate  Nobellaureates  Population\n",
       "0      Switzerland               32.771        8.8              28     8544034\n",
       "1           Sweden               30.052        8.1              30     9982709\n",
       "2          Austria               25.138        7.9              22     8751820\n",
       "3          Denmark               24.329        7.9              14     5754356\n",
       "4           Norway               24.284        6.6              13     5353363\n",
       "5          Ireland               14.572        5.8               7     4803748\n",
       "6          Germany               13.245        5.7             109    82293457\n",
       "7    United States               11.721        5.6             383   326766748\n",
       "8           France               10.664        5.4              70    65233271\n",
       "9          Finland                9.021        5.0               5     5542517\n",
       "10         Belgium                8.697        4.9              10    11498519\n",
       "11     New Zealand                6.316        4.9               3     4749598\n",
       "12          Poland                4.986        4.9              19    38104832\n",
       "13       Australia                4.844        4.8              12    24772247\n",
       "14  Czech Republic                4.706        4.4               5    10625250\n",
       "15           Japan                2.202        4.3              28   127185332\n",
       "16    South Africa                1.742        1.2              10    57398421\n",
       "17          Russia                1.598        0.9              23   143964709\n",
       "18           China                0.064        0.1               9  1415045928"
      ]
     },
     "execution_count": 2,
     "metadata": {},
     "output_type": "execute_result"
    }
   ],
   "source": [
    "Nobel_chocolate = pd.read_csv('nobel-chocolate.csv', thousands=',')\n",
    "print('Dimensions of the data frame = ', Nobel_chocolate.shape)\n",
    "Nobel_chocolate"
   ]
  },
  {
   "cell_type": "markdown",
   "metadata": {},
   "source": [
    "The nation of China is a bit of an outlier. While people in China win a reasonable number of Nobel prizes, the huge population skews the changes of winning per person. \n",
    "\n",
    "To get a feel for these data, create a scatter plot of Nobel prizes vs. chocolate consumption by executing the code in the cell below. "
   ]
  },
  {
   "cell_type": "code",
   "execution_count": 3,
   "metadata": {},
   "outputs": [
    {
     "data": {
      "text/plain": [
       "Text(0.5, 1.0, 'Nobel Prizes vs. Chocolate Consumption')"
      ]
     },
     "execution_count": 3,
     "metadata": {},
     "output_type": "execute_result"
    },
    {
     "data": {
      "image/png": "[encoded data removed]",
      "text/plain": [
       "<Figure size 576x576 with 1 Axes>"
      ]
     },
     "metadata": {
      "needs_background": "light"
     },
     "output_type": "display_data"
    }
   ],
   "source": [
    "## Define a figure and axes and make a scatter plot\n",
    "fig = plt.figure(figsize=(8, 8)) # define plot area\n",
    "ax = fig.gca() # define axis \n",
    "Nobel_chocolate.plot.scatter('Chocolate', 'Laureates10_million', ax = ax) # Scatter plot\n",
    "ax.set_title('Nobel Prizes vs. Chocolate Consumption') # Give the plot a main title"
   ]
  },
  {
   "cell_type": "markdown",
   "metadata": {},
   "source": [
    "What is the correlation between Nobel prizes and chocolate consumption? To find out, execute the code in the cell below.\n",
    "\n",
    "> Note: The Pandas corr method de-means each column before computing correlation."
   ]
  },
  {
   "cell_type": "code",
   "execution_count": 4,
   "metadata": {},
   "outputs": [
    {
     "data": {
      "text/html": [
       "<div>\n",
       "<style scoped>\n",
       "    .dataframe tbody tr th:only-of-type {\n",
       "        vertical-align: middle;\n",
       "    }\n",
       "\n",
       "    .dataframe tbody tr th {\n",
       "        vertical-align: top;\n",
       "    }\n",
       "\n",
       "    .dataframe thead th {\n",
       "        text-align: right;\n",
       "    }\n",
       "</style>\n",
       "<table border=\"1\" class=\"dataframe\">\n",
       "  <thead>\n",
       "    <tr style=\"text-align: right;\">\n",
       "      <th></th>\n",
       "      <th>Laureates10_million</th>\n",
       "      <th>Chocolate</th>\n",
       "    </tr>\n",
       "  </thead>\n",
       "  <tbody>\n",
       "    <tr>\n",
       "      <th>Laureates10_million</th>\n",
       "      <td>1.000000</td>\n",
       "      <td>0.878087</td>\n",
       "    </tr>\n",
       "    <tr>\n",
       "      <th>Chocolate</th>\n",
       "      <td>0.878087</td>\n",
       "      <td>1.000000</td>\n",
       "    </tr>\n",
       "  </tbody>\n",
       "</table>\n",
       "</div>"
      ],
      "text/plain": [
       "                     Laureates10_million  Chocolate\n",
       "Laureates10_million             1.000000   0.878087\n",
       "Chocolate                       0.878087   1.000000"
      ]
     },
     "execution_count": 4,
     "metadata": {},
     "output_type": "execute_result"
    }
   ],
   "source": [
    "Nobel_chocolate[['Laureates10_million', 'Chocolate']].corr()"
   ]
  },
  {
   "cell_type": "markdown",
   "metadata": {},
   "source": [
    "There seems to be a high correlation between the number of Nobel prizes and chocolate consumption. \n",
    "\n",
    "What about the relationship between the log of Nobel prizes and chocolate consumption? Execute the code in the cell below and examine the resulting plot."
   ]
  },
  {
   "cell_type": "code",
   "execution_count": 5,
   "metadata": {},
   "outputs": [
    {
     "data": {
      "text/plain": [
       "Text(0, 0.5, 'Log Nobel Prizes per 10 Million People')"
      ]
     },
     "execution_count": 5,
     "metadata": {},
     "output_type": "execute_result"
    },
    {
     "data": {
      "image/png": "[encoded data removed]",
      "text/plain": [
       "<Figure size 648x576 with 1 Axes>"
      ]
     },
     "metadata": {
      "needs_background": "light"
     },
     "output_type": "display_data"
    }
   ],
   "source": [
    "Nobel_chocolate['log_Nobel'] = np.log(Nobel_chocolate.Laureates10_million)\n",
    "\n",
    "## PLot the log Nobel vs. chocolate\n",
    "fig = plt.figure(figsize=(9, 8)) # define plot area\n",
    "ax = fig.gca() # define axis \n",
    "Nobel_chocolate.plot.scatter('Chocolate', 'log_Nobel', ax = ax) # Scatter plot\n",
    "ax.set_title('Log Nobel Prizes vs. Chocolate Consumption') # Give the plot a main title\n",
    "ax.set_xlabel('Chocolate Consumption') # Set text for the x axis\n",
    "ax.set_ylabel('Log Nobel Prizes per 10 Million People')# Set text for y axis"
   ]
  },
  {
   "cell_type": "markdown",
   "metadata": {},
   "source": [
    "This looks like fairly straight line relationship, with the exception of an outlier, China.  \n",
    "\n",
    "What is the correlation between log of Nobel prizes and chocolate consumption? Execute the code in the cell below to find out."
   ]
  },
  {
   "cell_type": "code",
   "execution_count": 6,
   "metadata": {},
   "outputs": [
    {
     "data": {
      "text/html": [
       "<div>\n",
       "<style scoped>\n",
       "    .dataframe tbody tr th:only-of-type {\n",
       "        vertical-align: middle;\n",
       "    }\n",
       "\n",
       "    .dataframe tbody tr th {\n",
       "        vertical-align: top;\n",
       "    }\n",
       "\n",
       "    .dataframe thead th {\n",
       "        text-align: right;\n",
       "    }\n",
       "</style>\n",
       "<table border=\"1\" class=\"dataframe\">\n",
       "  <thead>\n",
       "    <tr style=\"text-align: right;\">\n",
       "      <th></th>\n",
       "      <th>log_Nobel</th>\n",
       "      <th>Chocolate</th>\n",
       "    </tr>\n",
       "  </thead>\n",
       "  <tbody>\n",
       "    <tr>\n",
       "      <th>log_Nobel</th>\n",
       "      <td>1.000000</td>\n",
       "      <td>0.908148</td>\n",
       "    </tr>\n",
       "    <tr>\n",
       "      <th>Chocolate</th>\n",
       "      <td>0.908148</td>\n",
       "      <td>1.000000</td>\n",
       "    </tr>\n",
       "  </tbody>\n",
       "</table>\n",
       "</div>"
      ],
      "text/plain": [
       "           log_Nobel  Chocolate\n",
       "log_Nobel   1.000000   0.908148\n",
       "Chocolate   0.908148   1.000000"
      ]
     },
     "execution_count": 6,
     "metadata": {},
     "output_type": "execute_result"
    }
   ],
   "source": [
    "Nobel_chocolate[['log_Nobel', 'Chocolate']].corr()"
   ]
  },
  {
   "cell_type": "markdown",
   "metadata": {},
   "source": [
    "This correlation is even higher than for the untransformed relationship. But, does this make any sense in terms of a causal relationship? Can eating chocolate really improve someone's chances of winning a Nobel prize? \n",
    "\n",
    "Perhaps some other variable makes more sense for finding a causal relationship? GDP per person could be a good choice. Execute the code in the cell below to load the GDP data."
   ]
  },
  {
   "cell_type": "code",
   "execution_count": 7,
   "metadata": {},
   "outputs": [
    {
     "name": "stdout",
     "output_type": "stream",
     "text": [
      "           Country  GDP_billions\n",
      "0      Switzerland           679\n",
      "1           Sweden           538\n",
      "2          Austria           417\n",
      "3          Denmark           325\n",
      "4           Norway           399\n",
      "5          Ireland           334\n",
      "6          Germany          3677\n",
      "7    United States         19390\n",
      "8           France          2583\n",
      "9          Finland           252\n",
      "10         Belgium           493\n",
      "11     New Zealand           206\n",
      "12          Poland           525\n",
      "13       Australia          1323\n",
      "14  Czech Republic           216\n",
      "15           Japan          4872\n",
      "16    South Africa           349\n",
      "17          Russia          1578\n",
      "18           China         12240\n"
     ]
    }
   ],
   "source": [
    "GDP = pd.read_csv('GDP_Country.csv')\n",
    "print(GDP)"
   ]
  },
  {
   "cell_type": "markdown",
   "metadata": {},
   "source": [
    "There are now two data tables (Pandas data frames). These data tables must be joined and the GDP per person computed. Execute the code in the cell below to perform these operations and examine the resulting data frame. "
   ]
  },
  {
   "cell_type": "code",
   "execution_count": 8,
   "metadata": {},
   "outputs": [
    {
     "data": {
      "text/html": [
       "<div>\n",
       "<style scoped>\n",
       "    .dataframe tbody tr th:only-of-type {\n",
       "        vertical-align: middle;\n",
       "    }\n",
       "\n",
       "    .dataframe tbody tr th {\n",
       "        vertical-align: top;\n",
       "    }\n",
       "\n",
       "    .dataframe thead th {\n",
       "        text-align: right;\n",
       "    }\n",
       "</style>\n",
       "<table border=\"1\" class=\"dataframe\">\n",
       "  <thead>\n",
       "    <tr style=\"text-align: right;\">\n",
       "      <th></th>\n",
       "      <th>Country</th>\n",
       "      <th>Laureates10_million</th>\n",
       "      <th>Chocolate</th>\n",
       "      <th>Nobellaureates</th>\n",
       "      <th>Population</th>\n",
       "      <th>log_Nobel</th>\n",
       "      <th>GDP_billions</th>\n",
       "      <th>GDP_person_thousands</th>\n",
       "    </tr>\n",
       "  </thead>\n",
       "  <tbody>\n",
       "    <tr>\n",
       "      <th>0</th>\n",
       "      <td>Switzerland</td>\n",
       "      <td>32.771</td>\n",
       "      <td>8.8</td>\n",
       "      <td>28</td>\n",
       "      <td>8544034</td>\n",
       "      <td>3.489544</td>\n",
       "      <td>679</td>\n",
       "      <td>79.470658</td>\n",
       "    </tr>\n",
       "    <tr>\n",
       "      <th>1</th>\n",
       "      <td>Sweden</td>\n",
       "      <td>30.052</td>\n",
       "      <td>8.1</td>\n",
       "      <td>30</td>\n",
       "      <td>9982709</td>\n",
       "      <td>3.402929</td>\n",
       "      <td>538</td>\n",
       "      <td>53.893187</td>\n",
       "    </tr>\n",
       "    <tr>\n",
       "      <th>2</th>\n",
       "      <td>Austria</td>\n",
       "      <td>25.138</td>\n",
       "      <td>7.9</td>\n",
       "      <td>22</td>\n",
       "      <td>8751820</td>\n",
       "      <td>3.224381</td>\n",
       "      <td>417</td>\n",
       "      <td>47.647232</td>\n",
       "    </tr>\n",
       "    <tr>\n",
       "      <th>3</th>\n",
       "      <td>Denmark</td>\n",
       "      <td>24.329</td>\n",
       "      <td>7.9</td>\n",
       "      <td>14</td>\n",
       "      <td>5754356</td>\n",
       "      <td>3.191669</td>\n",
       "      <td>325</td>\n",
       "      <td>56.478953</td>\n",
       "    </tr>\n",
       "    <tr>\n",
       "      <th>4</th>\n",
       "      <td>Norway</td>\n",
       "      <td>24.284</td>\n",
       "      <td>6.6</td>\n",
       "      <td>13</td>\n",
       "      <td>5353363</td>\n",
       "      <td>3.189818</td>\n",
       "      <td>399</td>\n",
       "      <td>74.532588</td>\n",
       "    </tr>\n",
       "    <tr>\n",
       "      <th>5</th>\n",
       "      <td>Ireland</td>\n",
       "      <td>14.572</td>\n",
       "      <td>5.8</td>\n",
       "      <td>7</td>\n",
       "      <td>4803748</td>\n",
       "      <td>2.679102</td>\n",
       "      <td>334</td>\n",
       "      <td>69.529043</td>\n",
       "    </tr>\n",
       "    <tr>\n",
       "      <th>6</th>\n",
       "      <td>Germany</td>\n",
       "      <td>13.245</td>\n",
       "      <td>5.7</td>\n",
       "      <td>109</td>\n",
       "      <td>82293457</td>\n",
       "      <td>2.583620</td>\n",
       "      <td>3677</td>\n",
       "      <td>44.681560</td>\n",
       "    </tr>\n",
       "    <tr>\n",
       "      <th>7</th>\n",
       "      <td>United States</td>\n",
       "      <td>11.721</td>\n",
       "      <td>5.6</td>\n",
       "      <td>383</td>\n",
       "      <td>326766748</td>\n",
       "      <td>2.461382</td>\n",
       "      <td>19390</td>\n",
       "      <td>59.338963</td>\n",
       "    </tr>\n",
       "    <tr>\n",
       "      <th>8</th>\n",
       "      <td>France</td>\n",
       "      <td>10.664</td>\n",
       "      <td>5.4</td>\n",
       "      <td>70</td>\n",
       "      <td>65233271</td>\n",
       "      <td>2.366874</td>\n",
       "      <td>2583</td>\n",
       "      <td>39.596359</td>\n",
       "    </tr>\n",
       "    <tr>\n",
       "      <th>9</th>\n",
       "      <td>Finland</td>\n",
       "      <td>9.021</td>\n",
       "      <td>5.0</td>\n",
       "      <td>5</td>\n",
       "      <td>5542517</td>\n",
       "      <td>2.199555</td>\n",
       "      <td>252</td>\n",
       "      <td>45.466708</td>\n",
       "    </tr>\n",
       "    <tr>\n",
       "      <th>10</th>\n",
       "      <td>Belgium</td>\n",
       "      <td>8.697</td>\n",
       "      <td>4.9</td>\n",
       "      <td>10</td>\n",
       "      <td>11498519</td>\n",
       "      <td>2.162978</td>\n",
       "      <td>493</td>\n",
       "      <td>42.875087</td>\n",
       "    </tr>\n",
       "    <tr>\n",
       "      <th>11</th>\n",
       "      <td>New Zealand</td>\n",
       "      <td>6.316</td>\n",
       "      <td>4.9</td>\n",
       "      <td>3</td>\n",
       "      <td>4749598</td>\n",
       "      <td>1.843086</td>\n",
       "      <td>206</td>\n",
       "      <td>43.372092</td>\n",
       "    </tr>\n",
       "    <tr>\n",
       "      <th>12</th>\n",
       "      <td>Poland</td>\n",
       "      <td>4.986</td>\n",
       "      <td>4.9</td>\n",
       "      <td>19</td>\n",
       "      <td>38104832</td>\n",
       "      <td>1.606634</td>\n",
       "      <td>525</td>\n",
       "      <td>13.777780</td>\n",
       "    </tr>\n",
       "    <tr>\n",
       "      <th>13</th>\n",
       "      <td>Australia</td>\n",
       "      <td>4.844</td>\n",
       "      <td>4.8</td>\n",
       "      <td>12</td>\n",
       "      <td>24772247</td>\n",
       "      <td>1.577741</td>\n",
       "      <td>1323</td>\n",
       "      <td>53.406540</td>\n",
       "    </tr>\n",
       "    <tr>\n",
       "      <th>14</th>\n",
       "      <td>Czech Republic</td>\n",
       "      <td>4.706</td>\n",
       "      <td>4.4</td>\n",
       "      <td>5</td>\n",
       "      <td>10625250</td>\n",
       "      <td>1.548838</td>\n",
       "      <td>216</td>\n",
       "      <td>20.328933</td>\n",
       "    </tr>\n",
       "    <tr>\n",
       "      <th>15</th>\n",
       "      <td>Japan</td>\n",
       "      <td>2.202</td>\n",
       "      <td>4.3</td>\n",
       "      <td>28</td>\n",
       "      <td>127185332</td>\n",
       "      <td>0.789366</td>\n",
       "      <td>4872</td>\n",
       "      <td>38.306304</td>\n",
       "    </tr>\n",
       "    <tr>\n",
       "      <th>16</th>\n",
       "      <td>South Africa</td>\n",
       "      <td>1.742</td>\n",
       "      <td>1.2</td>\n",
       "      <td>10</td>\n",
       "      <td>57398421</td>\n",
       "      <td>0.555034</td>\n",
       "      <td>349</td>\n",
       "      <td>6.080307</td>\n",
       "    </tr>\n",
       "    <tr>\n",
       "      <th>17</th>\n",
       "      <td>Russia</td>\n",
       "      <td>1.598</td>\n",
       "      <td>0.9</td>\n",
       "      <td>23</td>\n",
       "      <td>143964709</td>\n",
       "      <td>0.468753</td>\n",
       "      <td>1578</td>\n",
       "      <td>10.961020</td>\n",
       "    </tr>\n",
       "    <tr>\n",
       "      <th>18</th>\n",
       "      <td>China</td>\n",
       "      <td>0.064</td>\n",
       "      <td>0.1</td>\n",
       "      <td>9</td>\n",
       "      <td>1415045928</td>\n",
       "      <td>-2.748872</td>\n",
       "      <td>12240</td>\n",
       "      <td>8.649896</td>\n",
       "    </tr>\n",
       "  </tbody>\n",
       "</table>\n",
       "</div>"
      ],
      "text/plain": [
       "           Country  Laureates10_million  Chocolate  Nobellaureates  \\\n",
       "0      Switzerland               32.771        8.8              28   \n",
       "1           Sweden               30.052        8.1              30   \n",
       "2          Austria               25.138        7.9              22   \n",
       "3          Denmark               24.329        7.9              14   \n",
       "4           Norway               24.284        6.6              13   \n",
       "5          Ireland               14.572        5.8               7   \n",
       "6          Germany               13.245        5.7             109   \n",
       "7    United States               11.721        5.6             383   \n",
       "8           France               10.664        5.4              70   \n",
       "9          Finland                9.021        5.0               5   \n",
       "10         Belgium                8.697        4.9              10   \n",
       "11     New Zealand                6.316        4.9               3   \n",
       "12          Poland                4.986        4.9              19   \n",
       "13       Australia                4.844        4.8              12   \n",
       "14  Czech Republic                4.706        4.4               5   \n",
       "15           Japan                2.202        4.3              28   \n",
       "16    South Africa                1.742        1.2              10   \n",
       "17          Russia                1.598        0.9              23   \n",
       "18           China                0.064        0.1               9   \n",
       "\n",
       "    Population  log_Nobel  GDP_billions  GDP_person_thousands  \n",
       "0      8544034   3.489544           679             79.470658  \n",
       "1      9982709   3.402929           538             53.893187  \n",
       "2      8751820   3.224381           417             47.647232  \n",
       "3      5754356   3.191669           325             56.478953  \n",
       "4      5353363   3.189818           399             74.532588  \n",
       "5      4803748   2.679102           334             69.529043  \n",
       "6     82293457   2.583620          3677             44.681560  \n",
       "7    326766748   2.461382         19390             59.338963  \n",
       "8     65233271   2.366874          2583             39.596359  \n",
       "9      5542517   2.199555           252             45.466708  \n",
       "10    11498519   2.162978           493             42.875087  \n",
       "11     4749598   1.843086           206             43.372092  \n",
       "12    38104832   1.606634           525             13.777780  \n",
       "13    24772247   1.577741          1323             53.406540  \n",
       "14    10625250   1.548838           216             20.328933  \n",
       "15   127185332   0.789366          4872             38.306304  \n",
       "16    57398421   0.555034           349              6.080307  \n",
       "17   143964709   0.468753          1578             10.961020  \n",
       "18  1415045928  -2.748872         12240              8.649896  "
      ]
     },
     "execution_count": 8,
     "metadata": {},
     "output_type": "execute_result"
    }
   ],
   "source": [
    "Nobel_chocolate = Nobel_chocolate.merge(right=GDP, how='left', left_on='Country', right_on='Country')\n",
    "Nobel_chocolate['GDP_person_thousands'] = 1000000 * np.divide(Nobel_chocolate.GDP_billions, Nobel_chocolate.Population)\n",
    "Nobel_chocolate"
   ]
  },
  {
   "cell_type": "markdown",
   "metadata": {},
   "source": [
    "Let's examine the relationship between GDP per person and the number of Nobel prizes. Execute the code in the cell below and examine the resulting plot. "
   ]
  },
  {
   "cell_type": "code",
   "execution_count": 9,
   "metadata": {},
   "outputs": [
    {
     "data": {
      "text/plain": [
       "Text(0, 0.5, 'Log Nobel Prizes per 10 Million People')"
      ]
     },
     "execution_count": 9,
     "metadata": {},
     "output_type": "execute_result"
    },
    {
     "data": {
      "image/png": "[encoded data removed]",
      "text/plain": [
       "<Figure size 648x576 with 1 Axes>"
      ]
     },
     "metadata": {
      "needs_background": "light"
     },
     "output_type": "display_data"
    }
   ],
   "source": [
    "## PLot the log Nobel vs. GDP\n",
    "fig = plt.figure(figsize=(9, 8)) # define plot area\n",
    "ax = fig.gca() # define axis \n",
    "Nobel_chocolate.plot.scatter('GDP_person_thousands', 'log_Nobel', ax = ax) # Scatter plot\n",
    "ax.set_title('Log Nobel Prizes vs. GDP per person') # Give the plot a main title\n",
    "ax.set_xlabel('GDP per person') # Set text for the x axis\n",
    "ax.set_ylabel('Log Nobel Prizes per 10 Million People')# Set text for y axis"
   ]
  },
  {
   "cell_type": "markdown",
   "metadata": {},
   "source": [
    "There seems to be a reasonable relationship between the GDP per person and the log of Nobel prizes per population. There is one outlier, again China. \n",
    "\n",
    "What is the correlation between the GDP per person and log Nobel prizes? Execute the code in the cell below and examine the results. "
   ]
  },
  {
   "cell_type": "code",
   "execution_count": 10,
   "metadata": {},
   "outputs": [
    {
     "data": {
      "text/html": [
       "<div>\n",
       "<style scoped>\n",
       "    .dataframe tbody tr th:only-of-type {\n",
       "        vertical-align: middle;\n",
       "    }\n",
       "\n",
       "    .dataframe tbody tr th {\n",
       "        vertical-align: top;\n",
       "    }\n",
       "\n",
       "    .dataframe thead th {\n",
       "        text-align: right;\n",
       "    }\n",
       "</style>\n",
       "<table border=\"1\" class=\"dataframe\">\n",
       "  <thead>\n",
       "    <tr style=\"text-align: right;\">\n",
       "      <th></th>\n",
       "      <th>log_Nobel</th>\n",
       "      <th>GDP_person_thousands</th>\n",
       "    </tr>\n",
       "  </thead>\n",
       "  <tbody>\n",
       "    <tr>\n",
       "      <th>log_Nobel</th>\n",
       "      <td>1.000000</td>\n",
       "      <td>0.763052</td>\n",
       "    </tr>\n",
       "    <tr>\n",
       "      <th>GDP_person_thousands</th>\n",
       "      <td>0.763052</td>\n",
       "      <td>1.000000</td>\n",
       "    </tr>\n",
       "  </tbody>\n",
       "</table>\n",
       "</div>"
      ],
      "text/plain": [
       "                      log_Nobel  GDP_person_thousands\n",
       "log_Nobel              1.000000              0.763052\n",
       "GDP_person_thousands   0.763052              1.000000"
      ]
     },
     "execution_count": 10,
     "metadata": {},
     "output_type": "execute_result"
    }
   ],
   "source": [
    "Nobel_chocolate[['log_Nobel', 'GDP_person_thousands']].corr()"
   ]
  },
  {
   "cell_type": "markdown",
   "metadata": {},
   "source": [
    "GDP per person and the log of the number of Nobel prizes per population exhibits fairly high correlation. Does this relationship make more sense than the relationship with chocolate consumption? \n",
    "\n",
    "Is there a relationship between chocolate consumption and GDP? This seems likely. To find out, execute the code in the cell below and examine the resulting plot."
   ]
  },
  {
   "cell_type": "code",
   "execution_count": 11,
   "metadata": {},
   "outputs": [
    {
     "data": {
      "text/plain": [
       "Text(0, 0.5, 'Chocolate consumption')"
      ]
     },
     "execution_count": 11,
     "metadata": {},
     "output_type": "execute_result"
    },
    {
     "data": {
      "image/png": "[encoded data removed]",
      "text/plain": [
       "<Figure size 648x576 with 1 Axes>"
      ]
     },
     "metadata": {
      "needs_background": "light"
     },
     "output_type": "display_data"
    }
   ],
   "source": [
    "## PLot the chocolate consuption vs. GDP\n",
    "fig = plt.figure(figsize=(9, 8)) # define plot area\n",
    "ax = fig.gca() # define axis \n",
    "Nobel_chocolate.plot.scatter('Chocolate', 'GDP_person_thousands', ax = ax) # Scatter plot\n",
    "ax.set_title('Chocolate consumption vs. GDP per person') # Give the plot a main title\n",
    "ax.set_xlabel('GDP per person') # Set text for the x axis\n",
    "ax.set_ylabel('Chocolate consumption')# Set text for y axis"
   ]
  },
  {
   "cell_type": "markdown",
   "metadata": {},
   "source": [
    "The relationship looks fairly linear. \n",
    "\n",
    "How correlated is chocolate consumption and GDP? To answer this question, in the cell below create and execute the code to compute the correlations between three of the variables and display the results: 'Chocolate', 'GDP_person_thousands', 'log_Nobel'. Make sure you name your correlation matrix object `corr_matrix`. "
   ]
  },
  {
   "cell_type": "code",
   "execution_count": null,
   "metadata": {},
   "outputs": [],
   "source": []
  },
  {
   "cell_type": "markdown",
   "metadata": {},
   "source": [
    "Notice the relationship between GDP per population and chocolate consumption. Do you think this relationship could be causal? What about the relationship between GDP per person and Nobel prizes?\n",
    "\n",
    "Finally, execute the code in the cell below to display a visualization of these correlations, and examine the results? "
   ]
  },
  {
   "cell_type": "code",
   "execution_count": 12,
   "metadata": {},
   "outputs": [
    {
     "ename": "NameError",
     "evalue": "name 'corr_matrix' is not defined",
     "output_type": "error",
     "traceback": [
      "\u001b[1;31m---------------------------------------------------------------------------\u001b[0m",
      "\u001b[1;31mNameError\u001b[0m                                 Traceback (most recent call last)",
      "\u001b[1;32m~\\AppData\\Local\\Temp/ipykernel_19620/39448387.py\u001b[0m in \u001b[0;36m<module>\u001b[1;34m\u001b[0m\n\u001b[1;32m----> 1\u001b[1;33m sns.heatmap(corr_matrix, center=0, cmap=\"YlGn\",\n\u001b[0m\u001b[0;32m      2\u001b[0m             square=True, linewidths=.25) \n\u001b[0;32m      3\u001b[0m \u001b[0mplt\u001b[0m\u001b[1;33m.\u001b[0m\u001b[0mtitle\u001b[0m\u001b[1;33m(\u001b[0m\u001b[1;34m'Correlation matrix for Nobel prize variables'\u001b[0m\u001b[1;33m)\u001b[0m\u001b[1;33m\u001b[0m\u001b[1;33m\u001b[0m\u001b[0m\n\u001b[0;32m      4\u001b[0m \u001b[0mplt\u001b[0m\u001b[1;33m.\u001b[0m\u001b[0myticks\u001b[0m\u001b[1;33m(\u001b[0m\u001b[0mrotation\u001b[0m\u001b[1;33m=\u001b[0m\u001b[1;34m'horizontal'\u001b[0m\u001b[1;33m)\u001b[0m\u001b[1;33m\u001b[0m\u001b[1;33m\u001b[0m\u001b[0m\n\u001b[0;32m      5\u001b[0m \u001b[0mplt\u001b[0m\u001b[1;33m.\u001b[0m\u001b[0mxticks\u001b[0m\u001b[1;33m(\u001b[0m\u001b[0mrotation\u001b[0m\u001b[1;33m=\u001b[0m\u001b[1;34m'vertical'\u001b[0m\u001b[1;33m)\u001b[0m\u001b[1;33m\u001b[0m\u001b[1;33m\u001b[0m\u001b[0m\n",
      "\u001b[1;31mNameError\u001b[0m: name 'corr_matrix' is not defined"
     ]
    }
   ],
   "source": [
    "sns.heatmap(corr_matrix, center=0, cmap=\"YlGn\",\n",
    "            square=True, linewidths=.25) \n",
    "plt.title('Correlation matrix for Nobel prize variables')\n",
    "plt.yticks(rotation='horizontal')\n",
    "plt.xticks(rotation='vertical')"
   ]
  },
  {
   "cell_type": "markdown",
   "metadata": {},
   "source": [
    "Notice that the correlation coefficients between all these variables is relatively high. This example illustrates the perils of trying to extract causal relationships from correlation values alone. \n",
    "\n",
    "Is it possible GDP has a causal relationship with both chocolate consumption and winning Nobel prizes. Are there other latent (hidden or not part of this data set) which might be important in determining causal relationships, like local tastes for chocolate, R&D spending levels in different countries? "
   ]
  },
  {
   "cell_type": "markdown",
   "metadata": {},
   "source": [
    "##### Copyright 2020, Stephen F. Elston. All rights reserved. "
   ]
  },
  {
   "cell_type": "code",
   "execution_count": null,
   "metadata": {},
   "outputs": [],
   "source": []
  }
 ],
 "metadata": {
  "kernelspec": {
   "display_name": "Python 3 (ipykernel)",
   "language": "python",
   "name": "python3"
  },
  "language_info": {
   "codemirror_mode": {
    "name": "ipython",
    "version": 3
   },
   "file_extension": ".py",
   "mimetype": "text/x-python",
   "name": "python",
   "nbconvert_exporter": "python",
   "pygments_lexer": "ipython3",
   "version": "3.7.3"
  }
 },
 "nbformat": 4,
 "nbformat_minor": 2
}
